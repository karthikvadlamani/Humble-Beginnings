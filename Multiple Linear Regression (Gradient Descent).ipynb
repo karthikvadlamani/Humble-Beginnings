{
 "cells": [
  {
   "cell_type": "code",
   "execution_count": 1,
   "metadata": {
    "collapsed": true
   },
   "outputs": [],
   "source": [
    "import numpy as np\n",
    "import pandas as pd\n",
    "from sklearn import linear_model"
   ]
  },
  {
   "cell_type": "code",
   "execution_count": 2,
   "metadata": {
    "collapsed": true
   },
   "outputs": [],
   "source": [
    "data = pd.read_csv('Airfoil.csv')"
   ]
  },
  {
   "cell_type": "code",
   "execution_count": 3,
   "metadata": {},
   "outputs": [
    {
     "data": {
      "text/html": [
       "<div>\n",
       "<style>\n",
       "    .dataframe thead tr:only-child th {\n",
       "        text-align: right;\n",
       "    }\n",
       "\n",
       "    .dataframe thead th {\n",
       "        text-align: left;\n",
       "    }\n",
       "\n",
       "    .dataframe tbody tr th {\n",
       "        vertical-align: top;\n",
       "    }\n",
       "</style>\n",
       "<table border=\"1\" class=\"dataframe\">\n",
       "  <thead>\n",
       "    <tr style=\"text-align: right;\">\n",
       "      <th></th>\n",
       "      <th>Frequency</th>\n",
       "      <th>Angle of Attack</th>\n",
       "      <th>Chord length</th>\n",
       "      <th>Free-stream velocity</th>\n",
       "      <th>Suction side displacement thickness</th>\n",
       "      <th>Scaled sound pressure level</th>\n",
       "    </tr>\n",
       "  </thead>\n",
       "  <tbody>\n",
       "    <tr>\n",
       "      <th>0</th>\n",
       "      <td>800</td>\n",
       "      <td>0.0</td>\n",
       "      <td>0.3048</td>\n",
       "      <td>71.3</td>\n",
       "      <td>0.002663</td>\n",
       "      <td>126.201</td>\n",
       "    </tr>\n",
       "    <tr>\n",
       "      <th>1</th>\n",
       "      <td>1000</td>\n",
       "      <td>0.0</td>\n",
       "      <td>0.3048</td>\n",
       "      <td>71.3</td>\n",
       "      <td>0.002663</td>\n",
       "      <td>125.201</td>\n",
       "    </tr>\n",
       "    <tr>\n",
       "      <th>2</th>\n",
       "      <td>1250</td>\n",
       "      <td>0.0</td>\n",
       "      <td>0.3048</td>\n",
       "      <td>71.3</td>\n",
       "      <td>0.002663</td>\n",
       "      <td>125.951</td>\n",
       "    </tr>\n",
       "    <tr>\n",
       "      <th>3</th>\n",
       "      <td>1600</td>\n",
       "      <td>0.0</td>\n",
       "      <td>0.3048</td>\n",
       "      <td>71.3</td>\n",
       "      <td>0.002663</td>\n",
       "      <td>127.591</td>\n",
       "    </tr>\n",
       "    <tr>\n",
       "      <th>4</th>\n",
       "      <td>2000</td>\n",
       "      <td>0.0</td>\n",
       "      <td>0.3048</td>\n",
       "      <td>71.3</td>\n",
       "      <td>0.002663</td>\n",
       "      <td>127.461</td>\n",
       "    </tr>\n",
       "  </tbody>\n",
       "</table>\n",
       "</div>"
      ],
      "text/plain": [
       "   Frequency  Angle of Attack  Chord length  Free-stream velocity  \\\n",
       "0        800              0.0        0.3048                  71.3   \n",
       "1       1000              0.0        0.3048                  71.3   \n",
       "2       1250              0.0        0.3048                  71.3   \n",
       "3       1600              0.0        0.3048                  71.3   \n",
       "4       2000              0.0        0.3048                  71.3   \n",
       "\n",
       "   Suction side displacement thickness  Scaled sound pressure level  \n",
       "0                             0.002663                      126.201  \n",
       "1                             0.002663                      125.201  \n",
       "2                             0.002663                      125.951  \n",
       "3                             0.002663                      127.591  \n",
       "4                             0.002663                      127.461  "
      ]
     },
     "execution_count": 3,
     "metadata": {},
     "output_type": "execute_result"
    }
   ],
   "source": [
    "data.head()"
   ]
  },
  {
   "cell_type": "code",
   "execution_count": 4,
   "metadata": {},
   "outputs": [
    {
     "data": {
      "text/plain": [
       "Index(['Frequency', 'Angle of Attack', 'Chord length', 'Free-stream velocity',\n",
       "       'Suction side displacement thickness', 'Scaled sound pressure level'],\n",
       "      dtype='object')"
      ]
     },
     "execution_count": 4,
     "metadata": {},
     "output_type": "execute_result"
    }
   ],
   "source": [
    "data.columns"
   ]
  },
  {
   "cell_type": "code",
   "execution_count": 5,
   "metadata": {
    "collapsed": true
   },
   "outputs": [],
   "source": [
    "X = data.iloc[:,:-1]\n",
    "y = np.array(data['Scaled sound pressure level'])"
   ]
  },
  {
   "cell_type": "code",
   "execution_count": 6,
   "metadata": {
    "collapsed": true
   },
   "outputs": [],
   "source": [
    "from sklearn.model_selection import train_test_split"
   ]
  },
  {
   "cell_type": "code",
   "execution_count": 7,
   "metadata": {
    "collapsed": true
   },
   "outputs": [],
   "source": [
    "X_train, X_test, y_train, y_test = train_test_split(X, y, test_size=0.25, random_state=101)"
   ]
  },
  {
   "cell_type": "code",
   "execution_count": 8,
   "metadata": {},
   "outputs": [
    {
     "name": "stderr",
     "output_type": "stream",
     "text": [
      "C:\\Users\\karth\\Anaconda3\\lib\\site-packages\\statsmodels\\compat\\pandas.py:56: FutureWarning: The pandas.core.datetools module is deprecated and will be removed in a future version. Please use the pandas.tseries module instead.\n",
      "  from pandas.core import datetools\n"
     ]
    }
   ],
   "source": [
    "import statsmodels.api as sm"
   ]
  },
  {
   "cell_type": "code",
   "execution_count": 9,
   "metadata": {},
   "outputs": [
    {
     "data": {
      "text/html": [
       "<table class=\"simpletable\">\n",
       "<caption>OLS Regression Results</caption>\n",
       "<tr>\n",
       "  <th>Dep. Variable:</th>            <td>y</td>        <th>  R-squared:         </th> <td>   0.512</td> \n",
       "</tr>\n",
       "<tr>\n",
       "  <th>Model:</th>                   <td>OLS</td>       <th>  Adj. R-squared:    </th> <td>   0.510</td> \n",
       "</tr>\n",
       "<tr>\n",
       "  <th>Method:</th>             <td>Least Squares</td>  <th>  F-statistic:       </th> <td>   235.5</td> \n",
       "</tr>\n",
       "<tr>\n",
       "  <th>Date:</th>             <td>Sun, 27 May 2018</td> <th>  Prob (F-statistic):</th> <td>6.20e-172</td>\n",
       "</tr>\n",
       "<tr>\n",
       "  <th>Time:</th>                 <td>15:28:04</td>     <th>  Log-Likelihood:    </th> <td> -3380.4</td> \n",
       "</tr>\n",
       "<tr>\n",
       "  <th>No. Observations:</th>      <td>  1127</td>      <th>  AIC:               </th> <td>   6773.</td> \n",
       "</tr>\n",
       "<tr>\n",
       "  <th>Df Residuals:</th>          <td>  1121</td>      <th>  BIC:               </th> <td>   6803.</td> \n",
       "</tr>\n",
       "<tr>\n",
       "  <th>Df Model:</th>              <td>     5</td>      <th>                     </th>     <td> </td>    \n",
       "</tr>\n",
       "<tr>\n",
       "  <th>Covariance Type:</th>      <td>nonrobust</td>    <th>                     </th>     <td> </td>    \n",
       "</tr>\n",
       "</table>\n",
       "<table class=\"simpletable\">\n",
       "<tr>\n",
       "                   <td></td>                      <th>coef</th>     <th>std err</th>      <th>t</th>      <th>P>|t|</th>  <th>[0.025</th>    <th>0.975]</th>  \n",
       "</tr>\n",
       "<tr>\n",
       "  <th>const</th>                               <td>  132.8266</td> <td>    0.638</td> <td>  208.070</td> <td> 0.000</td> <td>  131.574</td> <td>  134.079</td>\n",
       "</tr>\n",
       "<tr>\n",
       "  <th>Frequency</th>                           <td>   -0.0012</td> <td> 4.68e-05</td> <td>  -26.276</td> <td> 0.000</td> <td>   -0.001</td> <td>   -0.001</td>\n",
       "</tr>\n",
       "<tr>\n",
       "  <th>Angle of Attack</th>                     <td>   -0.4004</td> <td>    0.045</td> <td>   -8.802</td> <td> 0.000</td> <td>   -0.490</td> <td>   -0.311</td>\n",
       "</tr>\n",
       "<tr>\n",
       "  <th>Chord length</th>                        <td>  -36.1022</td> <td>    1.931</td> <td>  -18.694</td> <td> 0.000</td> <td>  -39.891</td> <td>  -32.313</td>\n",
       "</tr>\n",
       "<tr>\n",
       "  <th>Free-stream velocity</th>                <td>    0.0957</td> <td>    0.010</td> <td>    9.989</td> <td> 0.000</td> <td>    0.077</td> <td>    0.115</td>\n",
       "</tr>\n",
       "<tr>\n",
       "  <th>Suction side displacement thickness</th> <td> -152.7897</td> <td>   17.017</td> <td>   -8.979</td> <td> 0.000</td> <td> -186.178</td> <td> -119.401</td>\n",
       "</tr>\n",
       "</table>\n",
       "<table class=\"simpletable\">\n",
       "<tr>\n",
       "  <th>Omnibus:</th>       <td> 5.986</td> <th>  Durbin-Watson:     </th> <td>   2.010</td>\n",
       "</tr>\n",
       "<tr>\n",
       "  <th>Prob(Omnibus):</th> <td> 0.050</td> <th>  Jarque-Bera (JB):  </th> <td>   7.576</td>\n",
       "</tr>\n",
       "<tr>\n",
       "  <th>Skew:</th>          <td>-0.022</td> <th>  Prob(JB):          </th> <td>  0.0226</td>\n",
       "</tr>\n",
       "<tr>\n",
       "  <th>Kurtosis:</th>      <td> 3.399</td> <th>  Cond. No.          </th> <td>5.25e+05</td>\n",
       "</tr>\n",
       "</table>"
      ],
      "text/plain": [
       "<class 'statsmodels.iolib.summary.Summary'>\n",
       "\"\"\"\n",
       "                            OLS Regression Results                            \n",
       "==============================================================================\n",
       "Dep. Variable:                      y   R-squared:                       0.512\n",
       "Model:                            OLS   Adj. R-squared:                  0.510\n",
       "Method:                 Least Squares   F-statistic:                     235.5\n",
       "Date:                Sun, 27 May 2018   Prob (F-statistic):          6.20e-172\n",
       "Time:                        15:28:04   Log-Likelihood:                -3380.4\n",
       "No. Observations:                1127   AIC:                             6773.\n",
       "Df Residuals:                    1121   BIC:                             6803.\n",
       "Df Model:                           5                                         \n",
       "Covariance Type:            nonrobust                                         \n",
       "=======================================================================================================\n",
       "                                          coef    std err          t      P>|t|      [0.025      0.975]\n",
       "-------------------------------------------------------------------------------------------------------\n",
       "const                                 132.8266      0.638    208.070      0.000     131.574     134.079\n",
       "Frequency                              -0.0012   4.68e-05    -26.276      0.000      -0.001      -0.001\n",
       "Angle of Attack                        -0.4004      0.045     -8.802      0.000      -0.490      -0.311\n",
       "Chord length                          -36.1022      1.931    -18.694      0.000     -39.891     -32.313\n",
       "Free-stream velocity                    0.0957      0.010      9.989      0.000       0.077       0.115\n",
       "Suction side displacement thickness  -152.7897     17.017     -8.979      0.000    -186.178    -119.401\n",
       "==============================================================================\n",
       "Omnibus:                        5.986   Durbin-Watson:                   2.010\n",
       "Prob(Omnibus):                  0.050   Jarque-Bera (JB):                7.576\n",
       "Skew:                          -0.022   Prob(JB):                       0.0226\n",
       "Kurtosis:                       3.399   Cond. No.                     5.25e+05\n",
       "==============================================================================\n",
       "\n",
       "Warnings:\n",
       "[1] Standard Errors assume that the covariance matrix of the errors is correctly specified.\n",
       "[2] The condition number is large, 5.25e+05. This might indicate that there are\n",
       "strong multicollinearity or other numerical problems.\n",
       "\"\"\""
      ]
     },
     "execution_count": 9,
     "metadata": {},
     "output_type": "execute_result"
    }
   ],
   "source": [
    "Xc = sm.add_constant(X_train)\n",
    "lm_stats = sm.OLS(y_train,Xc)\n",
    "stats_model = lm_stats.fit()\n",
    "stats_model.summary()"
   ]
  },
  {
   "cell_type": "code",
   "execution_count": 10,
   "metadata": {
    "collapsed": true
   },
   "outputs": [],
   "source": [
    "X_test = sm.add_constant(X_test)\n",
    "predictions_stats = stats_model.predict(X_test)"
   ]
  },
  {
   "cell_type": "code",
   "execution_count": 11,
   "metadata": {
    "collapsed": true
   },
   "outputs": [],
   "source": [
    "from sklearn.metrics import mean_squared_error"
   ]
  },
  {
   "cell_type": "code",
   "execution_count": 12,
   "metadata": {},
   "outputs": [
    {
     "name": "stdout",
     "output_type": "stream",
     "text": [
      "21.4884512023\n"
     ]
    }
   ],
   "source": [
    "print(mean_squared_error(predictions_stats,y_test))"
   ]
  },
  {
   "cell_type": "code",
   "execution_count": 13,
   "metadata": {
    "collapsed": true
   },
   "outputs": [],
   "source": [
    "#Gradient Descent"
   ]
  },
  {
   "cell_type": "code",
   "execution_count": 14,
   "metadata": {
    "collapsed": true
   },
   "outputs": [],
   "source": [
    "import random\n",
    "import numpy as np\n",
    "\n",
    "def random_w(p):\n",
    "    return np.array([np.random.normal() for i in range(p)])\n",
    "\n",
    "def hypothesis(X,w):\n",
    "    return np.dot(X,w)\n",
    "\n",
    "def loss(X,w,y):\n",
    "    return hypothesis(X,w) - y\n",
    "\n",
    "def squared_loss(X,w,y):\n",
    "    return loss(X,w,y) ** 2\n",
    "\n",
    "def gradients(X,w,y):\n",
    "    gradients = list()\n",
    "    n = float(len(y))\n",
    "    for j in range(len(w)):\n",
    "        gradients.append(np.sum(loss(X,w,y) * X[:,j]) / n)\n",
    "    return gradients\n",
    "\n",
    "def update(X,w,y,alpha=0.01):\n",
    "    return [t - alpha*g for t,g in zip(w, gradients(X,w,y))]\n",
    "\n",
    "def gradient_descent_runner(X, y, alpha = 0.01, eta = 10**-12, iterations = 20000):\n",
    "    w = random_w(X.shape[1])\n",
    "    print('Starting gradient descent at w = {0}, error = {1}'.format(w,np.sum(squared_loss(X,w,y))))\n",
    "    for k in range(iterations):\n",
    "        SSL = np.sum(squared_loss(X,w,y))\n",
    "        new_w = update(X,w,y, alpha = alpha)\n",
    "        new_SSL = np.sum(squared_loss(X,new_w,y))\n",
    "        w = new_w\n",
    "    return w,new_SSL       \n",
    "    "
   ]
  },
  {
   "cell_type": "code",
   "execution_count": 15,
   "metadata": {},
   "outputs": [
    {
     "name": "stdout",
     "output_type": "stream",
     "text": [
      "Starting gradient descent at w = [-0.89368392 -0.42502731  0.75155669 -0.46833669  2.43697975 -0.50599839], error = 17726964.85177095\n",
      "Final w = [-4.1047912105259465, -2.3670499027517162, -3.3133227765677464, 1.4851234753821754, -2.0745145625783357, 124.65813309671624], error = 26592.456792770034\n"
     ]
    }
   ],
   "source": [
    "from sklearn.preprocessing import StandardScaler\n",
    "\n",
    "observations = len(X_train)\n",
    "variables = data.columns[3:-1]\n",
    "standardization = StandardScaler()\n",
    "Xst = standardization.fit_transform(X_train)\n",
    "Xst = np.column_stack((Xst,np.ones(observations)))\n",
    "\n",
    "alpha = 0.001\n",
    "w,new_SSL = gradient_descent_runner(Xst, y_train)\n",
    "print('Final w = {0}, error = {1}'.format(w,new_SSL))"
   ]
  },
  {
   "cell_type": "code",
   "execution_count": 16,
   "metadata": {},
   "outputs": [
    {
     "name": "stderr",
     "output_type": "stream",
     "text": [
      "C:\\Users\\karth\\Anaconda3\\lib\\site-packages\\sklearn\\utils\\deprecation.py:70: DeprecationWarning: Function std_ is deprecated; Attribute ``std_`` will be removed in 0.19. Use ``scale_`` instead\n",
      "  warnings.warn(msg, category=DeprecationWarning)\n",
      "C:\\Users\\karth\\Anaconda3\\lib\\site-packages\\sklearn\\utils\\deprecation.py:70: DeprecationWarning: Function std_ is deprecated; Attribute ``std_`` will be removed in 0.19. Use ``scale_`` instead\n",
      "  warnings.warn(msg, category=DeprecationWarning)\n"
     ]
    },
    {
     "data": {
      "text/plain": [
       "array([  1.32826574e+02,  -1.22975300e-03,  -4.00430154e-01,\n",
       "        -3.61021708e+01,   9.57384420e-02,  -1.52789700e+02])"
      ]
     },
     "execution_count": 16,
     "metadata": {},
     "output_type": "execute_result"
    }
   ],
   "source": [
    "betas = w[:-1] / standardization.std_\n",
    "bias = w[-1] - np.sum((standardization.mean_ / standardization.std_) * w[:-1])\n",
    "\n",
    "coeffs = np.insert(betas,0,bias,axis=0)\n",
    "coeffs"
   ]
  },
  {
   "cell_type": "code",
   "execution_count": 17,
   "metadata": {
    "collapsed": true
   },
   "outputs": [],
   "source": [
    "coeffs = coeffs.reshape(1,6)"
   ]
  },
  {
   "cell_type": "code",
   "execution_count": 20,
   "metadata": {},
   "outputs": [],
   "source": [
    "predictions_gd = np.array([np.dot(coeffs,(X_test.iloc[j,:].values.reshape(6,1))) for j in range(len(X_test))]).reshape(376,)"
   ]
  },
  {
   "cell_type": "code",
   "execution_count": 21,
   "metadata": {},
   "outputs": [
    {
     "name": "stdout",
     "output_type": "stream",
     "text": [
      "21.4884512023\n"
     ]
    }
   ],
   "source": [
    "print(mean_squared_error(predictions_gd,y_test))"
   ]
  },
  {
   "cell_type": "code",
   "execution_count": null,
   "metadata": {
    "collapsed": true
   },
   "outputs": [],
   "source": []
  },
  {
   "cell_type": "code",
   "execution_count": null,
   "metadata": {
    "collapsed": true
   },
   "outputs": [],
   "source": []
  },
  {
   "cell_type": "code",
   "execution_count": null,
   "metadata": {
    "collapsed": true
   },
   "outputs": [],
   "source": []
  },
  {
   "cell_type": "code",
   "execution_count": null,
   "metadata": {
    "collapsed": true
   },
   "outputs": [],
   "source": []
  }
 ],
 "metadata": {
  "kernelspec": {
   "display_name": "Python 3",
   "language": "python",
   "name": "python3"
  },
  "language_info": {
   "codemirror_mode": {
    "name": "ipython",
    "version": 3
   },
   "file_extension": ".py",
   "mimetype": "text/x-python",
   "name": "python",
   "nbconvert_exporter": "python",
   "pygments_lexer": "ipython3",
   "version": "3.6.0"
  }
 },
 "nbformat": 4,
 "nbformat_minor": 2
}
